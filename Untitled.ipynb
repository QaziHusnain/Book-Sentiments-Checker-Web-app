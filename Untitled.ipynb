{
 "cells": [
  {
   "cell_type": "markdown",
   "id": "17ca3aa4-6f07-4eae-bd9c-83ee44a5e125",
   "metadata": {
    "jp-MarkdownHeadingCollapsed": true
   },
   "source": [
    "# load the book"
   ]
  },
  {
   "cell_type": "code",
   "execution_count": 1,
   "id": "503a0ce3-6662-4e31-b1d1-3528517b1061",
   "metadata": {},
   "outputs": [],
   "source": [
    "with open(\"miracle-in-the-andes.txt\",\"r\", encoding=\"utf-8\") as file:\n",
    "    book=file.read()"
   ]
  },
  {
   "cell_type": "code",
   "execution_count": 2,
   "id": "a95bad45-f34f-4f45-9567-264212fac0ee",
   "metadata": {},
   "outputs": [
    {
     "data": {
      "text/plain": [
       "str"
      ]
     },
     "execution_count": 2,
     "metadata": {},
     "output_type": "execute_result"
    }
   ],
   "source": [
    "type(book)"
   ]
  },
  {
   "cell_type": "markdown",
   "id": "c38b0aa9-e401-4ee7-a263-a9871fdba433",
   "metadata": {
    "jp-MarkdownHeadingCollapsed": true
   },
   "source": [
    "# Ho many Chapters?"
   ]
  },
  {
   "cell_type": "markdown",
   "id": "850a3a98-505d-4b84-b04e-8762641c79d9",
   "metadata": {},
   "source": [
    "### Using string method"
   ]
  },
  {
   "cell_type": "code",
   "execution_count": 3,
   "id": "43aa5ed9-234f-40e3-a9ec-7b96dd0bc849",
   "metadata": {},
   "outputs": [
    {
     "data": {
      "text/plain": [
       "11"
      ]
     },
     "execution_count": 3,
     "metadata": {},
     "output_type": "execute_result"
    }
   ],
   "source": [
    "book.count(\"Chapter\")"
   ]
  },
  {
   "cell_type": "markdown",
   "id": "49be49eb-6fae-4e22-bdac-18d53666f3ea",
   "metadata": {},
   "source": [
    "### using regular expression"
   ]
  },
  {
   "cell_type": "code",
   "execution_count": 4,
   "id": "0809323b-2f57-438f-bb85-01f3f250985f",
   "metadata": {},
   "outputs": [],
   "source": [
    "import re\n",
    "pattern=re.compile(\"Chapter [0-9]+\")\n",
    "chapter_list=re.findall(pattern,book)"
   ]
  },
  {
   "cell_type": "code",
   "execution_count": 5,
   "id": "6511b845-59e1-48fb-9420-d10df7bef696",
   "metadata": {},
   "outputs": [
    {
     "data": {
      "text/plain": [
       "10"
      ]
     },
     "execution_count": 5,
     "metadata": {},
     "output_type": "execute_result"
    }
   ],
   "source": [
    "len(chapter_list)"
   ]
  },
  {
   "cell_type": "code",
   "execution_count": 6,
   "id": "bc35cb28-6deb-4240-9ee6-ffad9356f80c",
   "metadata": {},
   "outputs": [
    {
     "data": {
      "text/plain": [
       "['Chapter 1',\n",
       " 'Chapter 2',\n",
       " 'Chapter 3',\n",
       " 'Chapter 4',\n",
       " 'Chapter 5',\n",
       " 'Chapter 6',\n",
       " 'Chapter 7',\n",
       " 'Chapter 8',\n",
       " 'Chapter 9',\n",
       " 'Chapter 10']"
      ]
     },
     "execution_count": 6,
     "metadata": {},
     "output_type": "execute_result"
    }
   ],
   "source": [
    "chapter_list"
   ]
  },
  {
   "cell_type": "markdown",
   "id": "f2144095-e3d7-42da-9e58-24ab7650a4c6",
   "metadata": {
    "jp-MarkdownHeadingCollapsed": true
   },
   "source": [
    "# which are sentence whre are \"love is use"
   ]
  },
  {
   "cell_type": "code",
   "execution_count": 26,
   "id": "8a7a2127-da0a-4428-9cde-31ec6c85a075",
   "metadata": {},
   "outputs": [
    {
     "data": {
      "text/plain": [
       "67"
      ]
     },
     "execution_count": 26,
     "metadata": {},
     "output_type": "execute_result"
    }
   ],
   "source": [
    "import re\n",
    "pattern=re.compile(\"[A-Z]{1}[^.]*[^a-zA-Z]+love[^a-zA-Z]+[^.]*.\")\n",
    "finding=re.findall(pattern,book)\n",
    "len(finding)"
   ]
  },
  {
   "cell_type": "markdown",
   "id": "87676314-26c0-4078-af48-f51927f8d09a",
   "metadata": {},
   "source": [
    "# What is the most used word in book"
   ]
  },
  {
   "cell_type": "code",
   "execution_count": 29,
   "id": "0e0c2316-fc89-4416-a0bc-d70b541da5c1",
   "metadata": {},
   "outputs": [],
   "source": [
    "pattern=re.compile(\"[a-zA-Z]+\")\n",
    "finding=re.findall(pattern,book.lower())"
   ]
  },
  {
   "cell_type": "code",
   "execution_count": 39,
   "id": "52c7bbec-8450-447a-83d2-967caeb910b7",
   "metadata": {},
   "outputs": [],
   "source": [
    "d={}\n",
    "for word in finding:\n",
    "    if word in d.keys():\n",
    "        d[word]=d[word]+1\n",
    "    else:\n",
    "        d[word]=1\n",
    "d_list=[(value,key) for key,value in d.items()] \n",
    "d_list=sorted(d_list,reverse=True)"
   ]
  },
  {
   "cell_type": "code",
   "execution_count": 41,
   "id": "682d46fb-07fd-410e-8391-520d330be056",
   "metadata": {},
   "outputs": [
    {
     "data": {
      "text/plain": [
       "'3.11.3'"
      ]
     },
     "execution_count": 41,
     "metadata": {},
     "output_type": "execute_result"
    }
   ],
   "source": [
    "from platform import python_version\n",
    "python_version()"
   ]
  },
  {
   "cell_type": "code",
   "execution_count": 43,
   "id": "e78a0633-a499-4673-bf4d-a622dd5c8864",
   "metadata": {},
   "outputs": [
    {
     "name": "stdout",
     "output_type": "stream",
     "text": [
      "Requirement already satisfied: nltk in c:\\users\\qazi\\pycharmprojects\\book_analysis\\venv\\lib\\site-packages (3.8.1)\n",
      "Requirement already satisfied: click in c:\\users\\qazi\\pycharmprojects\\book_analysis\\venv\\lib\\site-packages (from nltk) (8.1.3)\n",
      "Requirement already satisfied: joblib in c:\\users\\qazi\\pycharmprojects\\book_analysis\\venv\\lib\\site-packages (from nltk) (1.2.0)\n",
      "Requirement already satisfied: regex>=2021.8.3 in c:\\users\\qazi\\pycharmprojects\\book_analysis\\venv\\lib\\site-packages (from nltk) (2023.6.3)\n",
      "Requirement already satisfied: tqdm in c:\\users\\qazi\\pycharmprojects\\book_analysis\\venv\\lib\\site-packages (from nltk) (4.65.0)\n",
      "Requirement already satisfied: colorama in c:\\users\\qazi\\pycharmprojects\\book_analysis\\venv\\lib\\site-packages (from click->nltk) (0.4.6)\n"
     ]
    },
    {
     "name": "stderr",
     "output_type": "stream",
     "text": [
      "\n",
      "[notice] A new release of pip available: 22.3.1 -> 23.1.2\n",
      "[notice] To update, run: python.exe -m pip install --upgrade pip\n"
     ]
    }
   ],
   "source": [
    "!pip3.11 install nltk"
   ]
  },
  {
   "cell_type": "code",
   "execution_count": 46,
   "id": "2c1ba957-fb86-48b4-b5f6-11052002f670",
   "metadata": {},
   "outputs": [
    {
     "name": "stderr",
     "output_type": "stream",
     "text": [
      "[nltk_data] Downloading package stopwords to\n",
      "[nltk_data]     C:\\Users\\Qazi\\AppData\\Roaming\\nltk_data...\n",
      "[nltk_data]   Unzipping corpora\\stopwords.zip.\n"
     ]
    },
    {
     "data": {
      "text/plain": [
       "True"
      ]
     },
     "execution_count": 46,
     "metadata": {},
     "output_type": "execute_result"
    }
   ],
   "source": [
    "import nltk\n",
    "nltk.download('stopwords')\n"
   ]
  },
  {
   "cell_type": "code",
   "execution_count": 54,
   "id": "4ed958b9-aad9-4bda-a370-1899d18cd799",
   "metadata": {},
   "outputs": [],
   "source": [
    "from nltk.corpus import stopwords\n",
    "eng_stop=stopwords.words(\"english\")\n",
    "filter_list=[]\n",
    "for count,word in d_list:\n",
    "    if word not in eng_stop:\n",
    "        filter_list.append((word,count))\n",
    "    \n"
   ]
  },
  {
   "cell_type": "markdown",
   "id": "9f77bf0b-3404-4201-ab09-223568da87c9",
   "metadata": {},
   "source": [
    "# Sentimental analysis"
   ]
  },
  {
   "cell_type": "code",
   "execution_count": 57,
   "id": "9fd8c224-1488-4938-b49c-99a49a7f6173",
   "metadata": {},
   "outputs": [],
   "source": [
    "from nltk.sentiment import SentimentIntensityAnalyzer"
   ]
  },
  {
   "cell_type": "code",
   "execution_count": 59,
   "id": "10757e31-f93b-419d-bb23-1f02f27be64f",
   "metadata": {},
   "outputs": [
    {
     "name": "stderr",
     "output_type": "stream",
     "text": [
      "[nltk_data] Downloading package vader_lexicon to\n",
      "[nltk_data]     C:\\Users\\Qazi\\AppData\\Roaming\\nltk_data...\n"
     ]
    },
    {
     "data": {
      "text/plain": [
       "True"
      ]
     },
     "execution_count": 59,
     "metadata": {},
     "output_type": "execute_result"
    }
   ],
   "source": [
    "nltk.download('vader_lexicon')\n",
    "\n"
   ]
  },
  {
   "cell_type": "code",
   "execution_count": 61,
   "id": "370c2c20-cd41-40a4-9599-f395d40ef0f6",
   "metadata": {},
   "outputs": [],
   "source": [
    "analyzer=SentimentIntensityAnalyzer()"
   ]
  },
  {
   "cell_type": "code",
   "execution_count": 70,
   "id": "37ea07bd-3734-4f6a-a060-61ba2c5b226b",
   "metadata": {},
   "outputs": [],
   "source": [
    "score=analyzer.polarity_scores(\"I just read Silo got renewed for another season so I'm looking forward to seeing where this show goes. This show really is every bit as good as everyone says it it. It currently has a 87% on Rotten Tomatoes from both critics and audience and a 8.2 here. It has those great scores for a reason. This is definitely one of the best new shows of the year. It takes place in a dystopian future where everyone lives in a huge silo hundreds of stories underground. They live there with a bunch of rules that they all believe are in place to protect them. It has a star studded cast led by Rebecca Ferguson and supported by Tim Robbins, Shane McRae, Will Patton, Common, Iain Glen, David Oyelowo, Rashida Jones, and more. With that cast, the great writing and great visuals this is a cant miss thriller!\")\n"
   ]
  },
  {
   "cell_type": "code",
   "execution_count": 71,
   "id": "a264de52-c8c4-4a48-b6b7-b458e1b890cb",
   "metadata": {},
   "outputs": [
    {
     "name": "stdout",
     "output_type": "stream",
     "text": [
      "this is positive review\n"
     ]
    }
   ],
   "source": [
    "if score[\"pos\"]> score[\"neg\"]:\n",
    "    print(\"this is positive review\")\n",
    "else:\n",
    "    print(\"this is negative review\")"
   ]
  },
  {
   "cell_type": "code",
   "execution_count": 79,
   "id": "b9b11e89-f7de-49ba-aff6-23edc0d489e8",
   "metadata": {},
   "outputs": [
    {
     "name": "stdout",
     "output_type": "stream",
     "text": [
      "{'neg': 0.061, 'neu': 0.779, 'pos': 0.16, 'compound': 1.0}\n",
      "{'neg': 0.12, 'neu': 0.726, 'pos': 0.154, 'compound': 0.9991}\n",
      "{'neg': 0.145, 'neu': 0.751, 'pos': 0.105, 'compound': -0.9999}\n",
      "{'neg': 0.141, 'neu': 0.721, 'pos': 0.138, 'compound': -0.9963}\n",
      "{'neg': 0.118, 'neu': 0.742, 'pos': 0.141, 'compound': 0.9997}\n",
      "{'neg': 0.124, 'neu': 0.761, 'pos': 0.115, 'compound': -0.9979}\n",
      "{'neg': 0.136, 'neu': 0.761, 'pos': 0.103, 'compound': -0.9999}\n",
      "{'neg': 0.12, 'neu': 0.786, 'pos': 0.094, 'compound': -0.9998}\n",
      "{'neg': 0.097, 'neu': 0.824, 'pos': 0.079, 'compound': -0.9996}\n",
      "{'neg': 0.086, 'neu': 0.733, 'pos': 0.181, 'compound': 1.0}\n"
     ]
    }
   ],
   "source": [
    "import re\n",
    "pattern=re.compile(\"Chapter [0-9]+\")\n",
    "splitted_book=re.split(pattern,book)\n",
    "splitted_book\n",
    "chapters=splitted_book[1:]\n",
    "chapter\n",
    "for chapter in chapters:\n",
    "    score=analyzer.polarity_scores(chapter)\n",
    "    print(score)\n",
    "    \n",
    "    "
   ]
  }
 ],
 "metadata": {
  "kernelspec": {
   "display_name": "Python 3 (ipykernel)",
   "language": "python",
   "name": "python3"
  },
  "language_info": {
   "codemirror_mode": {
    "name": "ipython",
    "version": 3
   },
   "file_extension": ".py",
   "mimetype": "text/x-python",
   "name": "python",
   "nbconvert_exporter": "python",
   "pygments_lexer": "ipython3",
   "version": "3.11.3"
  }
 },
 "nbformat": 4,
 "nbformat_minor": 5
}
